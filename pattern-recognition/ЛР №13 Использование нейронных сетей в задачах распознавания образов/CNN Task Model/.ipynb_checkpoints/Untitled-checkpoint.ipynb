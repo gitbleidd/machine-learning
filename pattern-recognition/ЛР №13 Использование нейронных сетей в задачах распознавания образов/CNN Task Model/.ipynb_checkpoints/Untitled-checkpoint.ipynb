{
 "cells": [
  {
   "cell_type": "code",
   "execution_count": 61,
   "id": "f17b9c0d",
   "metadata": {
    "scrolled": true
   },
   "outputs": [
    {
     "name": "stdout",
     "output_type": "stream",
     "text": [
      "Found 597 images belonging to 36 classes.\n",
      "Found 531 images belonging to 36 classes.\n"
     ]
    },
    {
     "name": "stderr",
     "output_type": "stream",
     "text": [
      "<ipython-input-61-c0f64b968ba3>:90: UserWarning: `Model.fit_generator` is deprecated and will be removed in a future version. Please use `Model.fit`, which supports generators.\n",
      "  history = model.fit_generator(\n",
      "<ipython-input-61-c0f64b968ba3>:102: UserWarning: `Model.evaluate_generator` is deprecated and will be removed in a future version. Please use `Model.evaluate`, which supports generators.\n",
      "  _, acc = model.evaluate_generator(test_it, steps=len(test_it), verbose=0)\n"
     ]
    },
    {
     "name": "stdout",
     "output_type": "stream",
     "text": [
      "> 47.646\n"
     ]
    },
    {
     "data": {
      "image/png": "[encoded data removed]",
      "text/plain": [
       "<Figure size 432x288 with 2 Axes>"
      ]
     },
     "metadata": {
      "needs_background": "light"
     },
     "output_type": "display_data"
    }
   ],
   "source": [
    "from matplotlib import pyplot\n",
    "from matplotlib.image import imread\n",
    "\n",
    "import keras\n",
    "import sys\n",
    "\n",
    "from keras.models import Sequential, load_model\n",
    "from keras.layers import Input, Dense, Conv2D, MaxPooling2D\n",
    "from keras.layers import Activation, Dropout, Flatten, Dense\n",
    "from tensorflow.keras.optimizers import SGD, Adam\n",
    "from tensorflow.keras.preprocessing.image import ImageDataGenerator\n",
    "\n",
    "from keras.wrappers.scikit_learn import KerasClassifier\n",
    "\n",
    "N = 64\n",
    "train_it_indices = None\n",
    "\n",
    "# define cnn model\n",
    "def define_model():\n",
    "#     model = Sequential()\n",
    "#     model.add(Conv2D(128, (3, 3), activation='relu', kernel_initializer='he_uniform', padding='same', input_shape=(N, N, 3)))\n",
    "#     model.add(MaxPooling2D((2, 2)))\n",
    "#     model.add(Conv2D(64, (3, 3), activation='relu', kernel_initializer='he_uniform', padding='same', input_shape=(N, N, 3)))\n",
    "#     model.add(MaxPooling2D((2, 2)))\n",
    "#     model.add(Flatten())\n",
    "#     model.add(Dense(128, activation='relu', kernel_initializer='he_uniform'))\n",
    "# #     model.add(Dense(64, activation='relu', kernel_initializer='he_uniform'))\n",
    "#     model.add(Dense(36, activation='softmax'))\n",
    "    \n",
    "    model = Sequential()\n",
    "    model.add(Conv2D(32, (3, 3), activation='relu', kernel_initializer='he_uniform', padding='same', input_shape=(N, N, 3)))\n",
    "    model.add(MaxPooling2D((2, 2)))\n",
    "    model.add(Conv2D(64, (3, 3), activation='relu', kernel_initializer='he_uniform', padding='same'))\n",
    "    model.add(MaxPooling2D((2, 2)))\n",
    "    model.add(Conv2D(128, (3, 3), activation='relu', kernel_initializer='he_uniform', padding='same'))\n",
    "    model.add(MaxPooling2D((2, 2)))\n",
    "    model.add(Dropout(rate=0.5))\n",
    "    model.add(Flatten())\n",
    "    model.add(Dense(36, activation='softmax'))\n",
    "    \n",
    "    # compile model\n",
    "    opt = SGD(lr=0.001, momentum=0.9)\n",
    "    model.compile(optimizer=Adam(learning_rate=0.001), loss='categorical_crossentropy', metrics=['accuracy'])\n",
    "    return model\n",
    " \n",
    "# plot diagnostic learning curves\n",
    "def summarize_diagnostics(history):\n",
    "    # plot loss\n",
    "    pyplot.subplot(211)\n",
    "    pyplot.title('Cross Entropy Loss')\n",
    "    pyplot.plot(history.history['loss'], color='blue', label='train')\n",
    "    pyplot.plot(history.history['val_loss'], color='orange', label='test')\n",
    "    # plot accuracy\n",
    "    pyplot.subplot(212)\n",
    "    pyplot.title('Classification Accuracy')\n",
    "    pyplot.plot(history.history['accuracy'], color='blue', label='train')\n",
    "    pyplot.plot(history.history['val_accuracy'], color='orange', label='test')\n",
    "    # save plot to file\n",
    "    filename = sys.argv[0].split('/')[-1]\n",
    "    pyplot.savefig(filename + '_plot.png')\n",
    "    pyplot.show()\n",
    "    pyplot.close()\n",
    "\n",
    "# run the test harness for evaluating a model\n",
    "def run_test_harness():\n",
    "    # define model\n",
    "    model = define_model()\n",
    "    # create data generator\n",
    "    datagen = ImageDataGenerator(1.0/255.0)\n",
    "    \n",
    "    train_data_dir  = \"C:\\\\Users\\\\gitbleidd\\\\Google Диск\\\\Colab Notebooks\\\\prepared_train_64\"\n",
    "    test_data_dir = \"C:\\\\Users\\\\gitbleidd\\\\Google Диск\\\\Colab Notebooks\\\\prepared_test_64\"\n",
    "#     train_batch_size = 597\n",
    "#     test_batch_size = 531\n",
    "\n",
    "    # prepare iterators\n",
    "    train_it = datagen.flow_from_directory(\n",
    "        train_data_dir,\n",
    "        class_mode='categorical', \n",
    "        batch_size=32,\n",
    "        target_size=(N, N))\n",
    "    \n",
    "    test_it = datagen.flow_from_directory(\n",
    "        train_data_dir,\n",
    "        class_mode='categorical', \n",
    "        batch_size=32,\n",
    "        target_size=(N, N))\n",
    "    \n",
    "    # fit model\n",
    "    history = model.fit_generator(\n",
    "        train_it, \n",
    "        steps_per_epoch=len(train_it),\n",
    "        validation_data=test_it, \n",
    "        validation_steps=len(test_it), \n",
    "        epochs=100,\n",
    "        verbose=0)\n",
    "    \n",
    "    # save model\n",
    "    model.save('cnn_model.h5')\n",
    "    \n",
    "    # evaluate model\n",
    "    _, acc = model.evaluate_generator(test_it, steps=len(test_it), verbose=0)\n",
    "    print('> %.3f' % (acc * 100.0))\n",
    "    # learning curves\n",
    "    summarize_diagnostics(history)\n",
    "    \n",
    "    return train_it.class_indices\n",
    "\n",
    "\n",
    "train_it_indices = run_test_harness()"
   ]
  },
  {
   "cell_type": "code",
   "execution_count": 58,
   "id": "b705eec2",
   "metadata": {},
   "outputs": [
    {
     "name": "stdout",
     "output_type": "stream",
     "text": [
      "[[0.02459207 0.02719636 0.04875441 0.03085486 0.01898129 0.03212242\n",
      "  0.02161562 0.02618873 0.02925536 0.03396179 0.03090367 0.0309528\n",
      "  0.02893269 0.03123188 0.02901584 0.03206982 0.02530698 0.0261522\n",
      "  0.0266195  0.02829373 0.02525136 0.03104489 0.02810698 0.02548837\n",
      "  0.02743041 0.0239837  0.02931119 0.03209135 0.03026661 0.01650665\n",
      "  0.02403032 0.01783074 0.02139327 0.02688403 0.02259097 0.03478714]]\n",
      "2\n",
      "2\n"
     ]
    }
   ],
   "source": [
    "import numpy as np\n",
    "from tensorflow.keras.preprocessing.image import load_img, img_to_array\n",
    "\n",
    "# load and prepare the image\n",
    "def load_image(filename):\n",
    "    # load the image\n",
    "    img = load_img(filename, target_size=(N, N))\n",
    "    # convert to array\n",
    "    img = img_to_array(img)\n",
    "    # reshape into a single sample with 3 channels\n",
    "    img = img.reshape(1, N, N, 3)\n",
    "    img = img.astype('float32') * 1.0/255.0\n",
    "    return img\n",
    " \n",
    "# load an image and predict the class\n",
    "def run_example():\n",
    "    # load the image\n",
    "    #img_path = \"C:\\\\Users\\\\gitbleidd\\\\Google Диск\\\\Colab Notebooks\\\\prepared_test_64\\\\2\\\\2.png\"\n",
    "    img_path = \"C:\\\\dev\\\\psu\\\\pattern-recognition\\\\PatternRecognition\\\\prepared_test_64\\\\2\\\\5.png\"\n",
    "    img = load_image(img_path)\n",
    "    # load model\n",
    "    model = load_model('cnn_model.h5')\n",
    "    # predict the class\n",
    "    result = model.predict(img)\n",
    "    print(result)\n",
    "    char_nums = [str(chr(i)) for i in range(ord('0'), ord('9') + 1)] + [str(chr(i)) for i in range(ord('A'), ord('Z') + 1)]\n",
    "    index = np.argmax(result)\n",
    "    print(index)\n",
    "    print(char_nums[index])\n",
    "\n",
    "run_example()"
   ]
  },
  {
   "cell_type": "code",
   "execution_count": 27,
   "id": "f83d65aa",
   "metadata": {},
   "outputs": [
    {
     "name": "stdout",
     "output_type": "stream",
     "text": [
      "{'0': 0, '1': 1, '2': 2, '3': 3, '4': 4, '5': 5, '6': 6, '7': 7, '8': 8, '9': 9, 'A': 10, 'B': 11, 'C': 12, 'D': 13, 'E': 14, 'F': 15, 'G': 16, 'H': 17, 'I': 18, 'J': 19, 'K': 20, 'L': 21, 'M': 22, 'N': 23, 'O': 24, 'P': 25, 'Q': 26, 'R': 27, 'S': 28, 'T': 29, 'U': 30, 'V': 31, 'W': 32, 'X': 33, 'Y': 34, 'Z': 35}\n"
     ]
    }
   ],
   "source": [
    "print(train_it_indices)"
   ]
  }
 ],
 "metadata": {
  "kernelspec": {
   "display_name": "Python 3",
   "language": "python",
   "name": "python3"
  },
  "language_info": {
   "codemirror_mode": {
    "name": "ipython",
    "version": 3
   },
   "file_extension": ".py",
   "mimetype": "text/x-python",
   "name": "python",
   "nbconvert_exporter": "python",
   "pygments_lexer": "ipython3",
   "version": "3.9.1"
  }
 },
 "nbformat": 4,
 "nbformat_minor": 5
}
