{
 "cells": [
  {
   "cell_type": "code",
   "execution_count": 86,
   "id": "d9da4266",
   "metadata": {
    "scrolled": true
   },
   "outputs": [
    {
     "name": "stderr",
     "output_type": "stream",
     "text": [
      "c:\\users\\gitbleidd\\appdata\\local\\programs\\python\\python39\\lib\\site-packages\\keras\\optimizer_v2\\gradient_descent.py:102: UserWarning: The `lr` argument is deprecated, use `learning_rate` instead.\n",
      "  super(SGD, self).__init__(name, **kwargs)\n",
      "<ipython-input-86-a1258605a087>:80: UserWarning: `Model.fit_generator` is deprecated and will be removed in a future version. Please use `Model.fit`, which supports generators.\n",
      "  history = model.fit_generator(\n",
      "c:\\users\\gitbleidd\\appdata\\local\\programs\\python\\python39\\lib\\site-packages\\keras_preprocessing\\image\\image_data_generator.py:720: UserWarning: This ImageDataGenerator specifies `featurewise_center`, but it hasn't been fit on any training data. Fit it first by calling `.fit(numpy_data)`.\n",
      "  warnings.warn('This ImageDataGenerator specifies '\n"
     ]
    },
    {
     "name": "stdout",
     "output_type": "stream",
     "text": [
      "Found 597 images belonging to 36 classes.\n",
      "Found 597 images belonging to 36 classes.\n"
     ]
    },
    {
     "name": "stderr",
     "output_type": "stream",
     "text": [
      "<ipython-input-86-a1258605a087>:92: UserWarning: `Model.evaluate_generator` is deprecated and will be removed in a future version. Please use `Model.evaluate`, which supports generators.\n",
      "  _, acc = model.evaluate_generator(test_it, steps=len(test_it), verbose=0)\n"
     ]
    },
    {
     "data": {
      "image/png": "[encoded data removed]",
      "text/plain": [
       "<Figure size 432x288 with 2 Axes>"
      ]
     },
     "metadata": {
      "needs_background": "light"
     },
     "output_type": "display_data"
    }
   ],
   "source": [
    "from matplotlib import pyplot\n",
    "from matplotlib.image import imread\n",
    "\n",
    "import keras\n",
    "import sys\n",
    "\n",
    "from keras.models import Sequential, load_model\n",
    "from keras.layers import Input, Dense, Conv2D, MaxPooling2D, GlobalAveragePooling2D\n",
    "from keras.layers import Activation, Dropout, Flatten, Dense\n",
    "from tensorflow.keras.optimizers import SGD, Adam\n",
    "from tensorflow.keras.preprocessing.image import ImageDataGenerator\n",
    "\n",
    "from keras.wrappers.scikit_learn import KerasClassifier\n",
    "\n",
    "N = 64\n",
    "train_it_indices = None\n",
    "\n",
    "# define cnn model\n",
    "def define_model():\n",
    "    model = Sequential()\n",
    "    model.add(Conv2D(32, (3, 3), activation='relu', kernel_initializer='he_uniform', padding='same', input_shape=(N, N, 3)))\n",
    "    model.add(MaxPooling2D((2, 2)))\n",
    "    model.add(Conv2D(64, (3, 3), activation='relu', kernel_initializer='he_uniform', padding='same'))\n",
    "    model.add(MaxPooling2D((2, 2)))\n",
    "    model.add(Conv2D(128, (3, 3), activation='relu', kernel_initializer='he_uniform', padding='same'))\n",
    "    model.add(MaxPooling2D((2, 2)))\n",
    "#     model.add(Conv2D(256, (3, 3), activation='relu', kernel_initializer='he_uniform', padding='same'))\n",
    "#     model.add(MaxPooling2D((2, 2)))\n",
    "    model.add(Dropout(rate=0.25))\n",
    "    model.add(Flatten())\n",
    "    model.add(Dense(36, activation='softmax'))\n",
    "    \n",
    "    # compile model\n",
    "    opt = SGD(lr=0.001, momentum=0.9)\n",
    "    model.compile(optimizer=Adam(learning_rate=0.001), loss='categorical_crossentropy', metrics=['accuracy'])\n",
    "    return model\n",
    " \n",
    "# plot diagnostic learning curves\n",
    "def summarize_diagnostics(history):\n",
    "    # plot loss\n",
    "    pyplot.subplot(211)\n",
    "    pyplot.title('Cross Entropy Loss')\n",
    "    pyplot.plot(history.history['loss'], color='blue', label='train')\n",
    "    pyplot.plot(history.history['val_loss'], color='orange', label='test')\n",
    "    # plot accuracy\n",
    "    pyplot.subplot(212)\n",
    "    pyplot.title('Classification Accuracy')\n",
    "    pyplot.plot(history.history['accuracy'], color='blue', label='train')\n",
    "    pyplot.plot(history.history['val_accuracy'], color='orange', label='test')\n",
    "    # save plot to file\n",
    "    filename = sys.argv[0].split('/')[-1]\n",
    "    pyplot.savefig(filename + '_plot.png')\n",
    "    pyplot.show()\n",
    "    pyplot.close()\n",
    "\n",
    "# run the test harness for evaluating a model\n",
    "def run_test_harness():\n",
    "    # define model\n",
    "    model = define_model()\n",
    "    # create data generator\n",
    "    datagen = ImageDataGenerator(1.0/255.0)\n",
    "    \n",
    "    train_data_dir  = \"C:\\\\Users\\\\gitbleidd\\\\Google Диск\\\\Colab Notebooks\\\\prepared_train_64\"\n",
    "    test_data_dir = \"C:\\\\Users\\\\gitbleidd\\\\Google Диск\\\\Colab Notebooks\\\\prepared_test_64\"\n",
    "\n",
    "    # prepare iterators\n",
    "    train_it = datagen.flow_from_directory(\n",
    "        train_data_dir,\n",
    "        class_mode='categorical', \n",
    "        batch_size=32,\n",
    "        target_size=(N, N))\n",
    "    \n",
    "    test_it = datagen.flow_from_directory(\n",
    "        train_data_dir,\n",
    "        class_mode='categorical', \n",
    "        batch_size=32,\n",
    "        target_size=(N, N))\n",
    "    \n",
    "    # fit model\n",
    "    history = model.fit_generator(\n",
    "        train_it, \n",
    "        steps_per_epoch=len(train_it),\n",
    "        validation_data=test_it, \n",
    "        validation_steps=len(test_it), \n",
    "        epochs=100,\n",
    "        verbose=0)\n",
    "    \n",
    "    # save model\n",
    "    model.save('cnn_model.h5')\n",
    "    \n",
    "    # evaluate model\n",
    "    _, acc = model.evaluate_generator(test_it, steps=len(test_it), verbose=0)\n",
    "    #rint('> %.3f' % (acc * 100.0))\n",
    "    # learning curves\n",
    "    summarize_diagnostics(history)\n",
    "    \n",
    "    return train_it.class_indices\n",
    "\n",
    "\n",
    "train_it_indices = run_test_harness()"
   ]
  },
  {
   "cell_type": "code",
   "execution_count": 83,
   "id": "153ff1f9",
   "metadata": {},
   "outputs": [
    {
     "name": "stdout",
     "output_type": "stream",
     "text": [
      "[[0.03259558 0.02701777 0.01547445 0.06448008 0.04794562 0.03576016\n",
      "  0.01359985 0.023825   0.04099044 0.03111997 0.03735648 0.01839523\n",
      "  0.02831679 0.03560393 0.01861923 0.01446316 0.02116949 0.01981539\n",
      "  0.0238453  0.03784064 0.02589229 0.0247414  0.02123613 0.0338005\n",
      "  0.05450012 0.01749641 0.02226339 0.01862172 0.0214303  0.01853046\n",
      "  0.01779402 0.02274744 0.03185738 0.03938784 0.02543801 0.01602802]]\n",
      "3\n",
      "3\n"
     ]
    }
   ],
   "source": [
    "import numpy as np\n",
    "from tensorflow.keras.preprocessing.image import load_img, img_to_array\n",
    "\n",
    "# load and prepare the image\n",
    "def load_image(filename):\n",
    "    # load the image\n",
    "    img = load_img(filename, target_size=(N, N))\n",
    "    # convert to array\n",
    "    img = img_to_array(img)\n",
    "    # reshape into a single sample with 3 channels\n",
    "    img = img.reshape(1, N, N, 3)\n",
    "    img = img.astype('float32') * 1.0/255.0\n",
    "    return img\n",
    " \n",
    "# load an image and predict the class\n",
    "def run_example():\n",
    "    # load the image\n",
    "    #img_path = \"C:\\\\Users\\\\gitbleidd\\\\Google Диск\\\\Colab Notebooks\\\\prepared_test_64\\\\2\\\\2.png\"\n",
    "    img_path = \"C:\\\\dev\\\\psu\\\\pattern-recognition\\\\PatternRecognition\\\\prepared_test_64\\\\3\\\\3.png\"\n",
    "    img = load_image(img_path)\n",
    "    # load model\n",
    "    model = load_model('cnn_model.h5')\n",
    "    # predict the class\n",
    "    result = model.predict(img)\n",
    "    print(result)\n",
    "    char_nums = [str(chr(i)) for i in range(ord('0'), ord('9') + 1)] + [str(chr(i)) for i in range(ord('A'), ord('Z') + 1)]\n",
    "    index = np.argmax(result)\n",
    "    print(index)\n",
    "    print(char_nums[index])\n",
    "\n",
    "run_example()"
   ]
  },
  {
   "cell_type": "code",
   "execution_count": 87,
   "id": "0c5e620c",
   "metadata": {},
   "outputs": [
    {
     "name": "stdout",
     "output_type": "stream",
     "text": [
      "Found 531 images belonging to 36 classes.\n",
      "Accuracy = 42.37%\n"
     ]
    }
   ],
   "source": [
    "from sklearn.metrics import accuracy_score\n",
    "datagen = ImageDataGenerator(rescale = 1. / 255)\n",
    "\n",
    "test_data_dir = \"C:\\\\Users\\\\gitbleidd\\\\Google Диск\\\\Colab Notebooks\\\\prepared_test_64\"\n",
    "test_batches = datagen.flow_from_directory(\n",
    "    directory=test_data_dir,\n",
    "    class_mode='categorical',\n",
    "    batch_size=32,\n",
    "    target_size=(N, N),\n",
    "    shuffle=False)\n",
    "\n",
    "model = load_model('cnn_model.h5')\n",
    "predictions = model.predict(x=test_batches, verbose=0)\n",
    "\n",
    "print(f'Accuracy = {round(accuracy_score(test_batches.classes, np.argmax(predictions, axis=-1)) * 100, 2)}%')"
   ]
  },
  {
   "cell_type": "code",
   "execution_count": null,
   "id": "09c6429f",
   "metadata": {},
   "outputs": [],
   "source": []
  }
 ],
 "metadata": {
  "kernelspec": {
   "display_name": "Python 3",
   "language": "python",
   "name": "python3"
  },
  "language_info": {
   "codemirror_mode": {
    "name": "ipython",
    "version": 3
   },
   "file_extension": ".py",
   "mimetype": "text/x-python",
   "name": "python",
   "nbconvert_exporter": "python",
   "pygments_lexer": "ipython3",
   "version": "3.9.1"
  }
 },
 "nbformat": 4,
 "nbformat_minor": 5
}
